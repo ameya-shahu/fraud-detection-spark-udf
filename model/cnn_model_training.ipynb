{
  "nbformat": 4,
  "nbformat_minor": 0,
  "metadata": {
    "colab": {
      "provenance": [],
      "gpuType": "T4"
    },
    "kernelspec": {
      "name": "python3",
      "display_name": "Python 3"
    },
    "language_info": {
      "name": "python"
    },
    "accelerator": "GPU"
  },
  "cells": [
    {
      "cell_type": "code",
      "execution_count": 2,
      "metadata": {
        "id": "fjIjDnifQQAe",
        "colab": {
          "base_uri": "https://localhost:8080/"
        },
        "outputId": "35774078-9cff-4810-a5cc-f0da24d90c77"
      },
      "outputs": [
        {
          "output_type": "stream",
          "name": "stdout",
          "text": [
            "Unzipping complete!\n"
          ]
        }
      ],
      "source": [
        "import zipfile\n",
        "import os\n",
        "\n",
        "zip_path = \"/content/disml_dataset.zip\"\n",
        "extract_path = \"/content/\"\n",
        "\n",
        "os.makedirs(extract_path, exist_ok=True)\n",
        "\n",
        "with zipfile.ZipFile(zip_path, 'r') as zip_ref:\n",
        "    zip_ref.extractall(extract_path)\n",
        "\n",
        "print(\"Unzipping complete!\")"
      ]
    },
    {
      "cell_type": "code",
      "source": [
        "import pandas as pd\n",
        "import numpy as np"
      ],
      "metadata": {
        "id": "nyrDrT5JRFgX"
      },
      "execution_count": 3,
      "outputs": []
    },
    {
      "cell_type": "code",
      "source": [
        "df = pd.read_csv(\"/content/DISML_project_dataset/idlabel.csv\")"
      ],
      "metadata": {
        "id": "5llDcfBxRUr_"
      },
      "execution_count": 5,
      "outputs": []
    },
    {
      "cell_type": "code",
      "source": [
        "non_fraud_path = \"/content/DISML_project_dataset/idimage/nonfraud_images\"\n",
        "fraud_path = \"/content/DISML_project_dataset/idimage/fraud_images\""
      ],
      "metadata": {
        "id": "jVMFp37bRx5_"
      },
      "execution_count": 6,
      "outputs": []
    },
    {
      "cell_type": "code",
      "source": [
        "source_folder = fraud_path\n",
        "fraud_6_folder = \"/content/DISML_project_dataset/idimage/fraud_6\"\n",
        "fraud_5_folder = \"/content/DISML_project_dataset/idimage/fraud_5\""
      ],
      "metadata": {
        "id": "Zx5QVNpMR3Id"
      },
      "execution_count": 7,
      "outputs": []
    },
    {
      "cell_type": "code",
      "source": [
        "os.makedirs(fraud_6_folder, exist_ok=True)\n",
        "os.makedirs(fraud_5_folder, exist_ok=True)"
      ],
      "metadata": {
        "id": "BCFLUs9oSmz_"
      },
      "execution_count": 8,
      "outputs": []
    },
    {
      "cell_type": "code",
      "source": [
        "import shutil"
      ],
      "metadata": {
        "id": "rLupLK58Sn4h"
      },
      "execution_count": 9,
      "outputs": []
    },
    {
      "cell_type": "code",
      "source": [
        "values_df = df[[\"id\", \"isfraud\", \"fraudpattern\"]]\n",
        "\n",
        "for _, row in values_df.iterrows():\n",
        "    file_name = row[\"id\"]\n",
        "    fraud_pattern = row[\"fraudpattern\"]\n",
        "\n",
        "    # Construct possible file paths (assuming images can have .jpg, .png, etc.)\n",
        "    for ext in [\".jpg\", \".png\", \".jpeg\"]:\n",
        "        source_path = os.path.join(source_folder, file_name + ext)\n",
        "        if os.path.exists(source_path):  # Check if the file exists\n",
        "            if fraud_pattern == \"Fraud6_crop_and_replace\":\n",
        "                target_path = os.path.join(fraud_6_folder, file_name + ext)\n",
        "            elif fraud_pattern == \"Fraud5_inpaint_and_rewrite\":\n",
        "                target_path = os.path.join(fraud_5_folder, file_name + ext)\n",
        "            else:\n",
        "                continue  # Skip unknown fraud patterns\n",
        "\n",
        "            # Move the file\n",
        "            shutil.move(source_path, target_path)\n",
        "            print(f\"Moved {source_path} → {target_path}\")\n",
        "            break  # Stop checking extensions once the file is found"
      ],
      "metadata": {
        "id": "iXy1HmmkSqQb",
        "colab": {
          "base_uri": "https://localhost:8080/"
        },
        "outputId": "1ac97226-5c62-4df2-9477-9174fd4b9053"
      },
      "execution_count": 10,
      "outputs": [
        {
          "output_type": "stream",
          "name": "stdout",
          "text": [
            "Moved /content/DISML_project_dataset/idimage/fraud_images/generated_fake_2_66.jpg → /content/DISML_project_dataset/idimage/fraud_6/generated_fake_2_66.jpg\n",
            "Moved /content/DISML_project_dataset/idimage/fraud_images/generated_fake_2_72.jpg → /content/DISML_project_dataset/idimage/fraud_6/generated_fake_2_72.jpg\n",
            "Moved /content/DISML_project_dataset/idimage/fraud_images/generated.photos_v3_0011839_fake_5540.jpg → /content/DISML_project_dataset/idimage/fraud_5/generated.photos_v3_0011839_fake_5540.jpg\n",
            "Moved /content/DISML_project_dataset/idimage/fraud_images/generated_fake_2_99.jpg → /content/DISML_project_dataset/idimage/fraud_6/generated_fake_2_99.jpg\n",
            "Moved /content/DISML_project_dataset/idimage/fraud_images/generated.photos_v3_0015467_fake_3788.jpg → /content/DISML_project_dataset/idimage/fraud_5/generated.photos_v3_0015467_fake_3788.jpg\n",
            "Moved /content/DISML_project_dataset/idimage/fraud_images/generated.photos_v3_0018393_fake_3904.jpg → /content/DISML_project_dataset/idimage/fraud_5/generated.photos_v3_0018393_fake_3904.jpg\n",
            "Moved /content/DISML_project_dataset/idimage/fraud_images/generated.photos_v3_0017712_fake_3568.jpg → /content/DISML_project_dataset/idimage/fraud_5/generated.photos_v3_0017712_fake_3568.jpg\n",
            "Moved /content/DISML_project_dataset/idimage/fraud_images/generated.photos_v3_0015584_fake_3329.jpg → /content/DISML_project_dataset/idimage/fraud_5/generated.photos_v3_0015584_fake_3329.jpg\n",
            "Moved /content/DISML_project_dataset/idimage/fraud_images/generated.photos_v3_0017285_fake_2243.jpg → /content/DISML_project_dataset/idimage/fraud_5/generated.photos_v3_0017285_fake_2243.jpg\n",
            "Moved /content/DISML_project_dataset/idimage/fraud_images/generated.photos_v3_0009540_fake_1187.jpg → /content/DISML_project_dataset/idimage/fraud_5/generated.photos_v3_0009540_fake_1187.jpg\n",
            "Moved /content/DISML_project_dataset/idimage/fraud_images/generated.photos_v3_0017084_fake_5847.jpg → /content/DISML_project_dataset/idimage/fraud_5/generated.photos_v3_0017084_fake_5847.jpg\n",
            "Moved /content/DISML_project_dataset/idimage/fraud_images/generated.photos_v3_0016288_fake_1945.jpg → /content/DISML_project_dataset/idimage/fraud_5/generated.photos_v3_0016288_fake_1945.jpg\n",
            "Moved /content/DISML_project_dataset/idimage/fraud_images/generated.photos_v3_0003040_fake_3918.jpg → /content/DISML_project_dataset/idimage/fraud_5/generated.photos_v3_0003040_fake_3918.jpg\n",
            "Moved /content/DISML_project_dataset/idimage/fraud_images/generated.photos_v3_0010442_fake_874.jpg → /content/DISML_project_dataset/idimage/fraud_5/generated.photos_v3_0010442_fake_874.jpg\n",
            "Moved /content/DISML_project_dataset/idimage/fraud_images/generated_fake_2_98.jpg → /content/DISML_project_dataset/idimage/fraud_6/generated_fake_2_98.jpg\n",
            "Moved /content/DISML_project_dataset/idimage/fraud_images/generated_fake_2_73.jpg → /content/DISML_project_dataset/idimage/fraud_6/generated_fake_2_73.jpg\n",
            "Moved /content/DISML_project_dataset/idimage/fraud_images/generated_fake_2_67.jpg → /content/DISML_project_dataset/idimage/fraud_6/generated_fake_2_67.jpg\n",
            "Moved /content/DISML_project_dataset/idimage/fraud_images/generated_fake_2_71.jpg → /content/DISML_project_dataset/idimage/fraud_6/generated_fake_2_71.jpg\n",
            "Moved /content/DISML_project_dataset/idimage/fraud_images/generated_fake_2_65.jpg → /content/DISML_project_dataset/idimage/fraud_6/generated_fake_2_65.jpg\n",
            "Moved /content/DISML_project_dataset/idimage/fraud_images/generated_fake_2_59.jpg → /content/DISML_project_dataset/idimage/fraud_6/generated_fake_2_59.jpg\n",
            "Moved /content/DISML_project_dataset/idimage/fraud_images/generated.photos_v3_0008825_fake_5355.jpg → /content/DISML_project_dataset/idimage/fraud_5/generated.photos_v3_0008825_fake_5355.jpg\n",
            "Moved /content/DISML_project_dataset/idimage/fraud_images/generated_fake_2_8.jpg → /content/DISML_project_dataset/idimage/fraud_6/generated_fake_2_8.jpg\n",
            "Moved /content/DISML_project_dataset/idimage/fraud_images/generated_fake_2_9.jpg → /content/DISML_project_dataset/idimage/fraud_6/generated_fake_2_9.jpg\n",
            "Moved /content/DISML_project_dataset/idimage/fraud_images/generated_fake_2_58.jpg → /content/DISML_project_dataset/idimage/fraud_6/generated_fake_2_58.jpg\n",
            "Moved /content/DISML_project_dataset/idimage/fraud_images/generated_fake_2_64.jpg → /content/DISML_project_dataset/idimage/fraud_6/generated_fake_2_64.jpg\n",
            "Moved /content/DISML_project_dataset/idimage/fraud_images/generated_fake_2_70.jpg → /content/DISML_project_dataset/idimage/fraud_6/generated_fake_2_70.jpg\n",
            "Moved /content/DISML_project_dataset/idimage/fraud_images/generated.photos_v3_0012976_fake_4712.jpg → /content/DISML_project_dataset/idimage/fraud_5/generated.photos_v3_0012976_fake_4712.jpg\n",
            "Moved /content/DISML_project_dataset/idimage/fraud_images/generated_fake_2_48.jpg → /content/DISML_project_dataset/idimage/fraud_6/generated_fake_2_48.jpg\n",
            "Moved /content/DISML_project_dataset/idimage/fraud_images/generated_fake_2_74.jpg → /content/DISML_project_dataset/idimage/fraud_6/generated_fake_2_74.jpg\n",
            "Moved /content/DISML_project_dataset/idimage/fraud_images/generated_fake_2_60.jpg → /content/DISML_project_dataset/idimage/fraud_6/generated_fake_2_60.jpg\n",
            "Moved /content/DISML_project_dataset/idimage/fraud_images/generated.photos_v3_0003103_fake_2619.jpg → /content/DISML_project_dataset/idimage/fraud_5/generated.photos_v3_0003103_fake_2619.jpg\n",
            "Moved /content/DISML_project_dataset/idimage/fraud_images/generated.photos_v3_0002511_fake_239.jpg → /content/DISML_project_dataset/idimage/fraud_5/generated.photos_v3_0002511_fake_239.jpg\n",
            "Moved /content/DISML_project_dataset/idimage/fraud_images/generated.photos_v3_0016139_fake_230.jpg → /content/DISML_project_dataset/idimage/fraud_5/generated.photos_v3_0016139_fake_230.jpg\n",
            "Moved /content/DISML_project_dataset/idimage/fraud_images/generated.photos_v3_0003285_fake_3005.jpg → /content/DISML_project_dataset/idimage/fraud_5/generated.photos_v3_0003285_fake_3005.jpg\n",
            "Moved /content/DISML_project_dataset/idimage/fraud_images/generated.photos_v3_0015369_fake_2791.jpg → /content/DISML_project_dataset/idimage/fraud_5/generated.photos_v3_0015369_fake_2791.jpg\n",
            "Moved /content/DISML_project_dataset/idimage/fraud_images/generated.photos_v3_0011839_fake_797.jpg → /content/DISML_project_dataset/idimage/fraud_5/generated.photos_v3_0011839_fake_797.jpg\n",
            "Moved /content/DISML_project_dataset/idimage/fraud_images/generated_fake_2_61.jpg → /content/DISML_project_dataset/idimage/fraud_6/generated_fake_2_61.jpg\n",
            "Moved /content/DISML_project_dataset/idimage/fraud_images/generated_fake_2_75.jpg → /content/DISML_project_dataset/idimage/fraud_6/generated_fake_2_75.jpg\n",
            "Moved /content/DISML_project_dataset/idimage/fraud_images/generated_fake_2_49.jpg → /content/DISML_project_dataset/idimage/fraud_6/generated_fake_2_49.jpg\n",
            "Moved /content/DISML_project_dataset/idimage/fraud_images/generated_fake_2_63.jpg → /content/DISML_project_dataset/idimage/fraud_6/generated_fake_2_63.jpg\n",
            "Moved /content/DISML_project_dataset/idimage/fraud_images/generated_fake_2_77.jpg → /content/DISML_project_dataset/idimage/fraud_6/generated_fake_2_77.jpg\n",
            "Moved /content/DISML_project_dataset/idimage/fraud_images/generated_fake_2_88.jpg → /content/DISML_project_dataset/idimage/fraud_6/generated_fake_2_88.jpg\n",
            "Moved /content/DISML_project_dataset/idimage/fraud_images/generated.photos_v3_0018393_fake_2175.jpg → /content/DISML_project_dataset/idimage/fraud_5/generated.photos_v3_0018393_fake_2175.jpg\n",
            "Moved /content/DISML_project_dataset/idimage/fraud_images/generated.photos_v3_0017285_fake_4636.jpg → /content/DISML_project_dataset/idimage/fraud_5/generated.photos_v3_0017285_fake_4636.jpg\n",
            "Moved /content/DISML_project_dataset/idimage/fraud_images/generated.photos_v3_0007944_fake_93.jpg → /content/DISML_project_dataset/idimage/fraud_5/generated.photos_v3_0007944_fake_93.jpg\n",
            "Moved /content/DISML_project_dataset/idimage/fraud_images/generated_fake_2_89.jpg → /content/DISML_project_dataset/idimage/fraud_6/generated_fake_2_89.jpg\n",
            "Moved /content/DISML_project_dataset/idimage/fraud_images/generated_fake_2_76.jpg → /content/DISML_project_dataset/idimage/fraud_6/generated_fake_2_76.jpg\n",
            "Moved /content/DISML_project_dataset/idimage/fraud_images/generated_fake_2_62.jpg → /content/DISML_project_dataset/idimage/fraud_6/generated_fake_2_62.jpg\n",
            "Moved /content/DISML_project_dataset/idimage/fraud_images/generated_fake_2_11.jpg → /content/DISML_project_dataset/idimage/fraud_6/generated_fake_2_11.jpg\n",
            "Moved /content/DISML_project_dataset/idimage/fraud_images/generated_fake_2_39.jpg → /content/DISML_project_dataset/idimage/fraud_6/generated_fake_2_39.jpg\n",
            "Moved /content/DISML_project_dataset/idimage/fraud_images/generated.photos_v3_0010678_fake_3851.jpg → /content/DISML_project_dataset/idimage/fraud_5/generated.photos_v3_0010678_fake_3851.jpg\n",
            "Moved /content/DISML_project_dataset/idimage/fraud_images/generated.photos_v3_0013103_fake_617.jpg → /content/DISML_project_dataset/idimage/fraud_5/generated.photos_v3_0013103_fake_617.jpg\n",
            "Moved /content/DISML_project_dataset/idimage/fraud_images/generated.photos_v3_0005252_fake_2762.jpg → /content/DISML_project_dataset/idimage/fraud_5/generated.photos_v3_0005252_fake_2762.jpg\n",
            "Moved /content/DISML_project_dataset/idimage/fraud_images/generated.photos_v3_0013748_0248697_0821130_fake_3930.jpg → /content/DISML_project_dataset/idimage/fraud_5/generated.photos_v3_0013748_0248697_0821130_fake_3930.jpg\n",
            "Moved /content/DISML_project_dataset/idimage/fraud_images/generated_fake_2_38.jpg → /content/DISML_project_dataset/idimage/fraud_6/generated_fake_2_38.jpg\n",
            "Moved /content/DISML_project_dataset/idimage/fraud_images/generated_fake_2_10.jpg → /content/DISML_project_dataset/idimage/fraud_6/generated_fake_2_10.jpg\n",
            "Moved /content/DISML_project_dataset/idimage/fraud_images/generated_fake_2_12.jpg → /content/DISML_project_dataset/idimage/fraud_6/generated_fake_2_12.jpg\n",
            "Moved /content/DISML_project_dataset/idimage/fraud_images/generated.photos_v3_0017596_fake_3886.jpg → /content/DISML_project_dataset/idimage/fraud_5/generated.photos_v3_0017596_fake_3886.jpg\n",
            "Moved /content/DISML_project_dataset/idimage/fraud_images/generated.photos_v3_0009963_fake_4911.jpg → /content/DISML_project_dataset/idimage/fraud_5/generated.photos_v3_0009963_fake_4911.jpg\n",
            "Moved /content/DISML_project_dataset/idimage/fraud_images/generated.photos_v3_0003357_fake_2377.jpg → /content/DISML_project_dataset/idimage/fraud_5/generated.photos_v3_0003357_fake_2377.jpg\n",
            "Moved /content/DISML_project_dataset/idimage/fraud_images/generated.photos_v3_0004516_fake_14.jpg → /content/DISML_project_dataset/idimage/fraud_5/generated.photos_v3_0004516_fake_14.jpg\n",
            "Moved /content/DISML_project_dataset/idimage/fraud_images/generated.photos_v3_0009638_fake_2189.jpg → /content/DISML_project_dataset/idimage/fraud_5/generated.photos_v3_0009638_fake_2189.jpg\n",
            "Moved /content/DISML_project_dataset/idimage/fraud_images/generated_fake_2_13.jpg → /content/DISML_project_dataset/idimage/fraud_6/generated_fake_2_13.jpg\n",
            "Moved /content/DISML_project_dataset/idimage/fraud_images/generated_fake_2_17.jpg → /content/DISML_project_dataset/idimage/fraud_6/generated_fake_2_17.jpg\n",
            "Moved /content/DISML_project_dataset/idimage/fraud_images/generated.photos_v3_0004516_fake_3332.jpg → /content/DISML_project_dataset/idimage/fraud_5/generated.photos_v3_0004516_fake_3332.jpg\n",
            "Moved /content/DISML_project_dataset/idimage/fraud_images/generated.photos_v3_0005821_fake_5765.jpg → /content/DISML_project_dataset/idimage/fraud_5/generated.photos_v3_0005821_fake_5765.jpg\n",
            "Moved /content/DISML_project_dataset/idimage/fraud_images/generated.photos_v3_0014463_fake_530.jpg → /content/DISML_project_dataset/idimage/fraud_5/generated.photos_v3_0014463_fake_530.jpg\n",
            "Moved /content/DISML_project_dataset/idimage/fraud_images/generated.photos_v3_0009862_fake_3816.jpg → /content/DISML_project_dataset/idimage/fraud_5/generated.photos_v3_0009862_fake_3816.jpg\n",
            "Moved /content/DISML_project_dataset/idimage/fraud_images/generated.photos_v3_0010442_fake_1644.jpg → /content/DISML_project_dataset/idimage/fraud_5/generated.photos_v3_0010442_fake_1644.jpg\n",
            "Moved /content/DISML_project_dataset/idimage/fraud_images/generated.photos_v3_0006073_fake_4154.jpg → /content/DISML_project_dataset/idimage/fraud_5/generated.photos_v3_0006073_fake_4154.jpg\n",
            "Moved /content/DISML_project_dataset/idimage/fraud_images/generated.photos_v3_0015467_fake_400.jpg → /content/DISML_project_dataset/idimage/fraud_5/generated.photos_v3_0015467_fake_400.jpg\n",
            "Moved /content/DISML_project_dataset/idimage/fraud_images/generated.photos_v3_0000630_fake_1290.jpg → /content/DISML_project_dataset/idimage/fraud_5/generated.photos_v3_0000630_fake_1290.jpg\n",
            "Moved /content/DISML_project_dataset/idimage/fraud_images/generated.photos_v3_0012976_fake_247.jpg → /content/DISML_project_dataset/idimage/fraud_5/generated.photos_v3_0012976_fake_247.jpg\n",
            "Moved /content/DISML_project_dataset/idimage/fraud_images/generated.photos_v3_0012976_fake_3912.jpg → /content/DISML_project_dataset/idimage/fraud_5/generated.photos_v3_0012976_fake_3912.jpg\n",
            "Moved /content/DISML_project_dataset/idimage/fraud_images/generated_fake_2_16.jpg → /content/DISML_project_dataset/idimage/fraud_6/generated_fake_2_16.jpg\n",
            "Moved /content/DISML_project_dataset/idimage/fraud_images/generated_fake_2_28.jpg → /content/DISML_project_dataset/idimage/fraud_6/generated_fake_2_28.jpg\n",
            "Moved /content/DISML_project_dataset/idimage/fraud_images/generated_fake_2_14.jpg → /content/DISML_project_dataset/idimage/fraud_6/generated_fake_2_14.jpg\n",
            "Moved /content/DISML_project_dataset/idimage/fraud_images/generated.photos_v3_0004164_fake_2264.jpg → /content/DISML_project_dataset/idimage/fraud_5/generated.photos_v3_0004164_fake_2264.jpg\n",
            "Moved /content/DISML_project_dataset/idimage/fraud_images/generated.photos_v3_0007944_fake_5830.jpg → /content/DISML_project_dataset/idimage/fraud_5/generated.photos_v3_0007944_fake_5830.jpg\n",
            "Moved /content/DISML_project_dataset/idimage/fraud_images/generated.photos_v3_0012201_fake_4343.jpg → /content/DISML_project_dataset/idimage/fraud_5/generated.photos_v3_0012201_fake_4343.jpg\n",
            "Moved /content/DISML_project_dataset/idimage/fraud_images/generated.photos_v3_0016139_fake_1274.jpg → /content/DISML_project_dataset/idimage/fraud_5/generated.photos_v3_0016139_fake_1274.jpg\n",
            "Moved /content/DISML_project_dataset/idimage/fraud_images/generated_fake_2_15.jpg → /content/DISML_project_dataset/idimage/fraud_6/generated_fake_2_15.jpg\n",
            "Moved /content/DISML_project_dataset/idimage/fraud_images/generated_fake_2_29.jpg → /content/DISML_project_dataset/idimage/fraud_6/generated_fake_2_29.jpg\n",
            "Moved /content/DISML_project_dataset/idimage/fraud_images/generated_fake_2_24.jpg → /content/DISML_project_dataset/idimage/fraud_6/generated_fake_2_24.jpg\n",
            "Moved /content/DISML_project_dataset/idimage/fraud_images/generated.photos_v3_0011812_fake_222.jpg → /content/DISML_project_dataset/idimage/fraud_5/generated.photos_v3_0011812_fake_222.jpg\n",
            "Moved /content/DISML_project_dataset/idimage/fraud_images/generated_fake_2_30.jpg → /content/DISML_project_dataset/idimage/fraud_6/generated_fake_2_30.jpg\n",
            "Moved /content/DISML_project_dataset/idimage/fraud_images/generated_fake_2_18.jpg → /content/DISML_project_dataset/idimage/fraud_6/generated_fake_2_18.jpg\n",
            "Moved /content/DISML_project_dataset/idimage/fraud_images/generated.photos_v3_0015078_fake_4329.jpg → /content/DISML_project_dataset/idimage/fraud_5/generated.photos_v3_0015078_fake_4329.jpg\n",
            "Moved /content/DISML_project_dataset/idimage/fraud_images/generated.photos_v3_0004219_fake_2932.jpg → /content/DISML_project_dataset/idimage/fraud_5/generated.photos_v3_0004219_fake_2932.jpg\n",
            "Moved /content/DISML_project_dataset/idimage/fraud_images/generated.photos_v3_0018393_fake_1638.jpg → /content/DISML_project_dataset/idimage/fraud_5/generated.photos_v3_0018393_fake_1638.jpg\n",
            "Moved /content/DISML_project_dataset/idimage/fraud_images/generated.photos_v3_0003357_fake_999.jpg → /content/DISML_project_dataset/idimage/fraud_5/generated.photos_v3_0003357_fake_999.jpg\n",
            "Moved /content/DISML_project_dataset/idimage/fraud_images/generated.photos_v3_0004164_fake_2651.jpg → /content/DISML_project_dataset/idimage/fraud_5/generated.photos_v3_0004164_fake_2651.jpg\n",
            "Moved /content/DISML_project_dataset/idimage/fraud_images/generated.photos_v3_0003687_fake_2499.jpg → /content/DISML_project_dataset/idimage/fraud_5/generated.photos_v3_0003687_fake_2499.jpg\n",
            "Moved /content/DISML_project_dataset/idimage/fraud_images/generated.photos_v3_0016311_fake_5168.jpg → /content/DISML_project_dataset/idimage/fraud_5/generated.photos_v3_0016311_fake_5168.jpg\n",
            "Moved /content/DISML_project_dataset/idimage/fraud_images/generated_fake_2_19.jpg → /content/DISML_project_dataset/idimage/fraud_6/generated_fake_2_19.jpg\n",
            "Moved /content/DISML_project_dataset/idimage/fraud_images/generated.photos_v3_0017084_fake_805.jpg → /content/DISML_project_dataset/idimage/fraud_5/generated.photos_v3_0017084_fake_805.jpg\n",
            "Moved /content/DISML_project_dataset/idimage/fraud_images/generated_fake_2_31.jpg → /content/DISML_project_dataset/idimage/fraud_6/generated_fake_2_31.jpg\n",
            "Moved /content/DISML_project_dataset/idimage/fraud_images/generated_fake_2_25.jpg → /content/DISML_project_dataset/idimage/fraud_6/generated_fake_2_25.jpg\n",
            "Moved /content/DISML_project_dataset/idimage/fraud_images/generated_fake_2_33.jpg → /content/DISML_project_dataset/idimage/fraud_6/generated_fake_2_33.jpg\n",
            "Moved /content/DISML_project_dataset/idimage/fraud_images/generated_fake_2_27.jpg → /content/DISML_project_dataset/idimage/fraud_6/generated_fake_2_27.jpg\n",
            "Moved /content/DISML_project_dataset/idimage/fraud_images/generated.photos_v3_0000170_fake_5129.jpg → /content/DISML_project_dataset/idimage/fraud_5/generated.photos_v3_0000170_fake_5129.jpg\n",
            "Moved /content/DISML_project_dataset/idimage/fraud_images/generated.photos_v3_0016087_fake_5068.jpg → /content/DISML_project_dataset/idimage/fraud_5/generated.photos_v3_0016087_fake_5068.jpg\n",
            "Moved /content/DISML_project_dataset/idimage/fraud_images/generated.photos_v3_0017084_fake_5812.jpg → /content/DISML_project_dataset/idimage/fraud_5/generated.photos_v3_0017084_fake_5812.jpg\n",
            "Moved /content/DISML_project_dataset/idimage/fraud_images/generated.photos_v3_0013753_fake_1235.jpg → /content/DISML_project_dataset/idimage/fraud_5/generated.photos_v3_0013753_fake_1235.jpg\n",
            "Moved /content/DISML_project_dataset/idimage/fraud_images/generated.photos_v3_0012338_fake_1325.jpg → /content/DISML_project_dataset/idimage/fraud_5/generated.photos_v3_0012338_fake_1325.jpg\n",
            "Moved /content/DISML_project_dataset/idimage/fraud_images/generated_fake_2_26.jpg → /content/DISML_project_dataset/idimage/fraud_6/generated_fake_2_26.jpg\n",
            "Moved /content/DISML_project_dataset/idimage/fraud_images/generated_fake_2_32.jpg → /content/DISML_project_dataset/idimage/fraud_6/generated_fake_2_32.jpg\n",
            "Moved /content/DISML_project_dataset/idimage/fraud_images/generated_fake_2_36.jpg → /content/DISML_project_dataset/idimage/fraud_6/generated_fake_2_36.jpg\n",
            "Moved /content/DISML_project_dataset/idimage/fraud_images/generated_fake_2_22.jpg → /content/DISML_project_dataset/idimage/fraud_6/generated_fake_2_22.jpg\n",
            "Moved /content/DISML_project_dataset/idimage/fraud_images/generated.photos_v3_0003040_fake_5294.jpg → /content/DISML_project_dataset/idimage/fraud_5/generated.photos_v3_0003040_fake_5294.jpg\n",
            "Moved /content/DISML_project_dataset/idimage/fraud_images/generated.photos_v3_0007424_fake_4678.jpg → /content/DISML_project_dataset/idimage/fraud_5/generated.photos_v3_0007424_fake_4678.jpg\n",
            "Moved /content/DISML_project_dataset/idimage/fraud_images/generated.photos_v3_0013103_fake_54.jpg → /content/DISML_project_dataset/idimage/fraud_5/generated.photos_v3_0013103_fake_54.jpg\n",
            "Moved /content/DISML_project_dataset/idimage/fraud_images/generated.photos_v3_0005821_fake_154.jpg → /content/DISML_project_dataset/idimage/fraud_5/generated.photos_v3_0005821_fake_154.jpg\n",
            "Moved /content/DISML_project_dataset/idimage/fraud_images/generated.photos_v3_0003285_fake_470.jpg → /content/DISML_project_dataset/idimage/fraud_5/generated.photos_v3_0003285_fake_470.jpg\n",
            "Moved /content/DISML_project_dataset/idimage/fraud_images/generated.photos_v3_0011742_fake_2969.jpg → /content/DISML_project_dataset/idimage/fraud_5/generated.photos_v3_0011742_fake_2969.jpg\n",
            "Moved /content/DISML_project_dataset/idimage/fraud_images/generated_fake_2_23.jpg → /content/DISML_project_dataset/idimage/fraud_6/generated_fake_2_23.jpg\n",
            "Moved /content/DISML_project_dataset/idimage/fraud_images/generated.photos_v3_0014397_fake_1357.jpg → /content/DISML_project_dataset/idimage/fraud_5/generated.photos_v3_0014397_fake_1357.jpg\n",
            "Moved /content/DISML_project_dataset/idimage/fraud_images/generated_fake_2_37.jpg → /content/DISML_project_dataset/idimage/fraud_6/generated_fake_2_37.jpg\n",
            "Moved /content/DISML_project_dataset/idimage/fraud_images/generated_fake_2_21.jpg → /content/DISML_project_dataset/idimage/fraud_6/generated_fake_2_21.jpg\n",
            "Moved /content/DISML_project_dataset/idimage/fraud_images/generated_fake_2_35.jpg → /content/DISML_project_dataset/idimage/fraud_6/generated_fake_2_35.jpg\n",
            "Moved /content/DISML_project_dataset/idimage/fraud_images/generated.photos_v3_0003285_fake_5964.jpg → /content/DISML_project_dataset/idimage/fraud_5/generated.photos_v3_0003285_fake_5964.jpg\n",
            "Moved /content/DISML_project_dataset/idimage/fraud_images/generated.photos_v3_0009764_fake_120.jpg → /content/DISML_project_dataset/idimage/fraud_5/generated.photos_v3_0009764_fake_120.jpg\n",
            "Moved /content/DISML_project_dataset/idimage/fraud_images/generated.photos_v3_0012338_fake_3910.jpg → /content/DISML_project_dataset/idimage/fraud_5/generated.photos_v3_0012338_fake_3910.jpg\n",
            "Moved /content/DISML_project_dataset/idimage/fraud_images/generated.photos_v3_0016621_fake_3981.jpg → /content/DISML_project_dataset/idimage/fraud_5/generated.photos_v3_0016621_fake_3981.jpg\n",
            "Moved /content/DISML_project_dataset/idimage/fraud_images/generated.photos_v3_0009540_fake_2635.jpg → /content/DISML_project_dataset/idimage/fraud_5/generated.photos_v3_0009540_fake_2635.jpg\n",
            "Moved /content/DISML_project_dataset/idimage/fraud_images/generated.photos_v3_0012338_fake_5804.jpg → /content/DISML_project_dataset/idimage/fraud_5/generated.photos_v3_0012338_fake_5804.jpg\n",
            "Moved /content/DISML_project_dataset/idimage/fraud_images/generated_fake_2_34.jpg → /content/DISML_project_dataset/idimage/fraud_6/generated_fake_2_34.jpg\n",
            "Moved /content/DISML_project_dataset/idimage/fraud_images/generated_fake_2_20.jpg → /content/DISML_project_dataset/idimage/fraud_6/generated_fake_2_20.jpg\n",
            "Moved /content/DISML_project_dataset/idimage/fraud_images/generated_fake_2_47.jpg → /content/DISML_project_dataset/idimage/fraud_6/generated_fake_2_47.jpg\n",
            "Moved /content/DISML_project_dataset/idimage/fraud_images/generated_fake_2_53.jpg → /content/DISML_project_dataset/idimage/fraud_6/generated_fake_2_53.jpg\n",
            "Moved /content/DISML_project_dataset/idimage/fraud_images/generated_fake_2_84.jpg → /content/DISML_project_dataset/idimage/fraud_6/generated_fake_2_84.jpg\n",
            "Moved /content/DISML_project_dataset/idimage/fraud_images/generated_fake_2_90.jpg → /content/DISML_project_dataset/idimage/fraud_6/generated_fake_2_90.jpg\n",
            "Moved /content/DISML_project_dataset/idimage/fraud_images/generated.photos_v3_0007424_fake_2442.jpg → /content/DISML_project_dataset/idimage/fraud_5/generated.photos_v3_0007424_fake_2442.jpg\n",
            "Moved /content/DISML_project_dataset/idimage/fraud_images/generated.photos_v3_0016311_fake_3547.jpg → /content/DISML_project_dataset/idimage/fraud_5/generated.photos_v3_0016311_fake_3547.jpg\n",
            "Moved /content/DISML_project_dataset/idimage/fraud_images/generated_fake_2_2.jpg → /content/DISML_project_dataset/idimage/fraud_6/generated_fake_2_2.jpg\n",
            "Moved /content/DISML_project_dataset/idimage/fraud_images/generated_fake_2_3.jpg → /content/DISML_project_dataset/idimage/fraud_6/generated_fake_2_3.jpg\n",
            "Moved /content/DISML_project_dataset/idimage/fraud_images/generated.photos_v3_0010375_fake_5439.jpg → /content/DISML_project_dataset/idimage/fraud_5/generated.photos_v3_0010375_fake_5439.jpg\n",
            "Moved /content/DISML_project_dataset/idimage/fraud_images/generated_fake_2_91.jpg → /content/DISML_project_dataset/idimage/fraud_6/generated_fake_2_91.jpg\n",
            "Moved /content/DISML_project_dataset/idimage/fraud_images/generated_fake_2_85.jpg → /content/DISML_project_dataset/idimage/fraud_6/generated_fake_2_85.jpg\n",
            "Moved /content/DISML_project_dataset/idimage/fraud_images/generated_fake_2_52.jpg → /content/DISML_project_dataset/idimage/fraud_6/generated_fake_2_52.jpg\n",
            "Moved /content/DISML_project_dataset/idimage/fraud_images/generated_fake_2_46.jpg → /content/DISML_project_dataset/idimage/fraud_6/generated_fake_2_46.jpg\n",
            "Moved /content/DISML_project_dataset/idimage/fraud_images/generated_fake_2_50.jpg → /content/DISML_project_dataset/idimage/fraud_6/generated_fake_2_50.jpg\n",
            "Moved /content/DISML_project_dataset/idimage/fraud_images/generated_fake_2_44.jpg → /content/DISML_project_dataset/idimage/fraud_6/generated_fake_2_44.jpg\n",
            "Moved /content/DISML_project_dataset/idimage/fraud_images/generated_fake_2_78.jpg → /content/DISML_project_dataset/idimage/fraud_6/generated_fake_2_78.jpg\n",
            "Moved /content/DISML_project_dataset/idimage/fraud_images/generated_fake_2_93.jpg → /content/DISML_project_dataset/idimage/fraud_6/generated_fake_2_93.jpg\n",
            "Moved /content/DISML_project_dataset/idimage/fraud_images/generated_fake_2_87.jpg → /content/DISML_project_dataset/idimage/fraud_6/generated_fake_2_87.jpg\n",
            "Moved /content/DISML_project_dataset/idimage/fraud_images/generated.photos_v3_0011812_fake_4698.jpg → /content/DISML_project_dataset/idimage/fraud_5/generated.photos_v3_0011812_fake_4698.jpg\n",
            "Moved /content/DISML_project_dataset/idimage/fraud_images/generated.photos_v3_0003687_fake_1456.jpg → /content/DISML_project_dataset/idimage/fraud_5/generated.photos_v3_0003687_fake_1456.jpg\n",
            "Moved /content/DISML_project_dataset/idimage/fraud_images/generated.photos_v3_0005944_fake_2801.jpg → /content/DISML_project_dataset/idimage/fraud_5/generated.photos_v3_0005944_fake_2801.jpg\n",
            "Moved /content/DISML_project_dataset/idimage/fraud_images/generated_fake_2_1.jpg → /content/DISML_project_dataset/idimage/fraud_6/generated_fake_2_1.jpg\n",
            "Moved /content/DISML_project_dataset/idimage/fraud_images/generated.photos_v3_0006207_fake_3844.jpg → /content/DISML_project_dataset/idimage/fraud_5/generated.photos_v3_0006207_fake_3844.jpg\n",
            "Moved /content/DISML_project_dataset/idimage/fraud_images/generated.photos_v3_0004023_fake_4095.jpg → /content/DISML_project_dataset/idimage/fraud_5/generated.photos_v3_0004023_fake_4095.jpg\n",
            "Moved /content/DISML_project_dataset/idimage/fraud_images/generated_fake_2_0.jpg → /content/DISML_project_dataset/idimage/fraud_6/generated_fake_2_0.jpg\n",
            "Moved /content/DISML_project_dataset/idimage/fraud_images/generated.photos_v3_0016621_fake_1062.jpg → /content/DISML_project_dataset/idimage/fraud_5/generated.photos_v3_0016621_fake_1062.jpg\n",
            "Moved /content/DISML_project_dataset/idimage/fraud_images/generated_fake_2_86.jpg → /content/DISML_project_dataset/idimage/fraud_6/generated_fake_2_86.jpg\n",
            "Moved /content/DISML_project_dataset/idimage/fraud_images/generated_fake_2_92.jpg → /content/DISML_project_dataset/idimage/fraud_6/generated_fake_2_92.jpg\n",
            "Moved /content/DISML_project_dataset/idimage/fraud_images/generated_fake_2_79.jpg → /content/DISML_project_dataset/idimage/fraud_6/generated_fake_2_79.jpg\n",
            "Moved /content/DISML_project_dataset/idimage/fraud_images/generated_fake_2_45.jpg → /content/DISML_project_dataset/idimage/fraud_6/generated_fake_2_45.jpg\n",
            "Moved /content/DISML_project_dataset/idimage/fraud_images/generated.photos_v3_0007125_fake_5503.jpg → /content/DISML_project_dataset/idimage/fraud_5/generated.photos_v3_0007125_fake_5503.jpg\n",
            "Moved /content/DISML_project_dataset/idimage/fraud_images/generated_fake_2_51.jpg → /content/DISML_project_dataset/idimage/fraud_6/generated_fake_2_51.jpg\n",
            "Moved /content/DISML_project_dataset/idimage/fraud_images/generated_fake_2_69.jpg → /content/DISML_project_dataset/idimage/fraud_6/generated_fake_2_69.jpg\n",
            "Moved /content/DISML_project_dataset/idimage/fraud_images/generated.photos_v3_0005252_fake_4223.jpg → /content/DISML_project_dataset/idimage/fraud_5/generated.photos_v3_0005252_fake_4223.jpg\n",
            "Moved /content/DISML_project_dataset/idimage/fraud_images/generated_fake_2_55.jpg → /content/DISML_project_dataset/idimage/fraud_6/generated_fake_2_55.jpg\n",
            "Moved /content/DISML_project_dataset/idimage/fraud_images/generated.photos_v3_0002720_fake_1423.jpg → /content/DISML_project_dataset/idimage/fraud_5/generated.photos_v3_0002720_fake_1423.jpg\n",
            "Moved /content/DISML_project_dataset/idimage/fraud_images/generated_fake_2_41.jpg → /content/DISML_project_dataset/idimage/fraud_6/generated_fake_2_41.jpg\n",
            "Moved /content/DISML_project_dataset/idimage/fraud_images/generated_fake_2_96.jpg → /content/DISML_project_dataset/idimage/fraud_6/generated_fake_2_96.jpg\n",
            "Moved /content/DISML_project_dataset/idimage/fraud_images/generated_fake_2_82.jpg → /content/DISML_project_dataset/idimage/fraud_6/generated_fake_2_82.jpg\n",
            "Moved /content/DISML_project_dataset/idimage/fraud_images/generated.photos_v3_0012412_fake_1596.jpg → /content/DISML_project_dataset/idimage/fraud_5/generated.photos_v3_0012412_fake_1596.jpg\n",
            "Moved /content/DISML_project_dataset/idimage/fraud_images/generated.photos_v3_0003687_fake_1321.jpg → /content/DISML_project_dataset/idimage/fraud_5/generated.photos_v3_0003687_fake_1321.jpg\n",
            "Moved /content/DISML_project_dataset/idimage/fraud_images/generated.photos_v3_0012412_fake_5055.jpg → /content/DISML_project_dataset/idimage/fraud_5/generated.photos_v3_0012412_fake_5055.jpg\n",
            "Moved /content/DISML_project_dataset/idimage/fraud_images/generated_fake_2_4.jpg → /content/DISML_project_dataset/idimage/fraud_6/generated_fake_2_4.jpg\n",
            "Moved /content/DISML_project_dataset/idimage/fraud_images/generated.photos_v3_0015426_fake_1048.jpg → /content/DISML_project_dataset/idimage/fraud_5/generated.photos_v3_0015426_fake_1048.jpg\n",
            "Moved /content/DISML_project_dataset/idimage/fraud_images/generated_fake_2_5.jpg → /content/DISML_project_dataset/idimage/fraud_6/generated_fake_2_5.jpg\n",
            "Moved /content/DISML_project_dataset/idimage/fraud_images/generated.photos_v3_0009638_fake_738.jpg → /content/DISML_project_dataset/idimage/fraud_5/generated.photos_v3_0009638_fake_738.jpg\n",
            "Moved /content/DISML_project_dataset/idimage/fraud_images/generated.photos_v3_0003040_fake_3056.jpg → /content/DISML_project_dataset/idimage/fraud_5/generated.photos_v3_0003040_fake_3056.jpg\n",
            "Moved /content/DISML_project_dataset/idimage/fraud_images/generated_fake_2_83.jpg → /content/DISML_project_dataset/idimage/fraud_6/generated_fake_2_83.jpg\n",
            "Moved /content/DISML_project_dataset/idimage/fraud_images/generated_fake_2_97.jpg → /content/DISML_project_dataset/idimage/fraud_6/generated_fake_2_97.jpg\n",
            "Moved /content/DISML_project_dataset/idimage/fraud_images/generated.photos_v3_0003317_fake_1249.jpg → /content/DISML_project_dataset/idimage/fraud_5/generated.photos_v3_0003317_fake_1249.jpg\n",
            "Moved /content/DISML_project_dataset/idimage/fraud_images/generated_fake_2_40.jpg → /content/DISML_project_dataset/idimage/fraud_6/generated_fake_2_40.jpg\n",
            "Moved /content/DISML_project_dataset/idimage/fraud_images/generated_fake_2_54.jpg → /content/DISML_project_dataset/idimage/fraud_6/generated_fake_2_54.jpg\n",
            "Moved /content/DISML_project_dataset/idimage/fraud_images/generated.photos_v3_0003285_fake_1975.jpg → /content/DISML_project_dataset/idimage/fraud_5/generated.photos_v3_0003285_fake_1975.jpg\n",
            "Moved /content/DISML_project_dataset/idimage/fraud_images/generated_fake_2_68.jpg → /content/DISML_project_dataset/idimage/fraud_6/generated_fake_2_68.jpg\n",
            "Moved /content/DISML_project_dataset/idimage/fraud_images/generated_fake_2_42.jpg → /content/DISML_project_dataset/idimage/fraud_6/generated_fake_2_42.jpg\n",
            "Moved /content/DISML_project_dataset/idimage/fraud_images/generated_fake_2_56.jpg → /content/DISML_project_dataset/idimage/fraud_6/generated_fake_2_56.jpg\n",
            "Moved /content/DISML_project_dataset/idimage/fraud_images/generated_fake_2_81.jpg → /content/DISML_project_dataset/idimage/fraud_6/generated_fake_2_81.jpg\n",
            "Moved /content/DISML_project_dataset/idimage/fraud_images/generated.photos_v3_0018393_fake_561.jpg → /content/DISML_project_dataset/idimage/fraud_5/generated.photos_v3_0018393_fake_561.jpg\n",
            "Moved /content/DISML_project_dataset/idimage/fraud_images/generated_fake_2_95.jpg → /content/DISML_project_dataset/idimage/fraud_6/generated_fake_2_95.jpg\n",
            "Moved /content/DISML_project_dataset/idimage/fraud_images/generated.photos_v3_0004164_fake_4694.jpg → /content/DISML_project_dataset/idimage/fraud_5/generated.photos_v3_0004164_fake_4694.jpg\n",
            "Moved /content/DISML_project_dataset/idimage/fraud_images/generated_fake_2_7.jpg → /content/DISML_project_dataset/idimage/fraud_6/generated_fake_2_7.jpg\n",
            "Moved /content/DISML_project_dataset/idimage/fraud_images/generated.photos_v3_0002720_fake_3380.jpg → /content/DISML_project_dataset/idimage/fraud_5/generated.photos_v3_0002720_fake_3380.jpg\n",
            "Moved /content/DISML_project_dataset/idimage/fraud_images/generated.photos_v3_0018663_fake_948.jpg → /content/DISML_project_dataset/idimage/fraud_5/generated.photos_v3_0018663_fake_948.jpg\n",
            "Moved /content/DISML_project_dataset/idimage/fraud_images/generated_fake_2_6.jpg → /content/DISML_project_dataset/idimage/fraud_6/generated_fake_2_6.jpg\n",
            "Moved /content/DISML_project_dataset/idimage/fraud_images/generated.photos_v3_0009540_fake_2642.jpg → /content/DISML_project_dataset/idimage/fraud_5/generated.photos_v3_0009540_fake_2642.jpg\n",
            "Moved /content/DISML_project_dataset/idimage/fraud_images/generated.photos_v3_0009638_fake_2734.jpg → /content/DISML_project_dataset/idimage/fraud_5/generated.photos_v3_0009638_fake_2734.jpg\n",
            "Moved /content/DISML_project_dataset/idimage/fraud_images/generated.photos_v3_0003285_fake_2066.jpg → /content/DISML_project_dataset/idimage/fraud_5/generated.photos_v3_0003285_fake_2066.jpg\n",
            "Moved /content/DISML_project_dataset/idimage/fraud_images/generated_fake_2_94.jpg → /content/DISML_project_dataset/idimage/fraud_6/generated_fake_2_94.jpg\n",
            "Moved /content/DISML_project_dataset/idimage/fraud_images/generated_fake_2_80.jpg → /content/DISML_project_dataset/idimage/fraud_6/generated_fake_2_80.jpg\n",
            "Moved /content/DISML_project_dataset/idimage/fraud_images/generated_fake_2_57.jpg → /content/DISML_project_dataset/idimage/fraud_6/generated_fake_2_57.jpg\n",
            "Moved /content/DISML_project_dataset/idimage/fraud_images/generated_fake_2_43.jpg → /content/DISML_project_dataset/idimage/fraud_6/generated_fake_2_43.jpg\n"
          ]
        }
      ]
    },
    {
      "cell_type": "code",
      "source": [
        "shutil.rmtree(fraud_path)"
      ],
      "metadata": {
        "id": "r4z-zGb_cmn4"
      },
      "execution_count": 15,
      "outputs": []
    },
    {
      "cell_type": "markdown",
      "source": [
        "# Model Training"
      ],
      "metadata": {
        "id": "PRr17u6zS7LI"
      }
    },
    {
      "cell_type": "code",
      "source": [
        "import torch\n",
        "import torch.nn as nn\n",
        "import torch.optim as optim\n",
        "import torch.nn.functional as F\n",
        "from torch.utils.data import DataLoader\n",
        "from torchvision import datasets, transforms\n",
        "import os\n",
        "import matplotlib.pyplot as plt\n",
        "from pathlib import Path"
      ],
      "metadata": {
        "id": "Lo7uFT0FSzcT"
      },
      "execution_count": 16,
      "outputs": []
    },
    {
      "cell_type": "code",
      "source": [
        "# Custom ImageFolder class to find classes\n",
        "class CustomImageFolder(datasets.ImageFolder):\n",
        "    def find_classes(self, directory):\n",
        "        classes = [d for d in os.listdir(directory) if os.path.isdir(os.path.join(directory, d)) and not d.startswith('.')]\n",
        "        classes.sort()\n",
        "        class_to_idx = {cls_name: i for i, cls_name in enumerate(classes)}\n",
        "        return classes, class_to_idx"
      ],
      "metadata": {
        "id": "5jbrcORMSt5p"
      },
      "execution_count": 17,
      "outputs": []
    },
    {
      "cell_type": "code",
      "source": [
        "# Define image transforms (resize, normalization)\n",
        "transform = transforms.Compose([\n",
        "    transforms.Resize((128, 128)),  # Resize to uniform size\n",
        "    transforms.ToTensor(),  # Convert image to tensor\n",
        "    transforms.Normalize(mean=[0.485, 0.456, 0.406], std=[0.229, 0.224, 0.225])  # Normalize for pre-trained models\n",
        "])"
      ],
      "metadata": {
        "id": "fdD5flqrTEFJ"
      },
      "execution_count": 18,
      "outputs": []
    },
    {
      "cell_type": "code",
      "source": [
        "# Load datasets using CustomImageFolder\n",
        "data_dir = Path(\"/content/DISML_project_dataset/idimage\")  # Adjust the path where your root folder is located\n",
        "train_dataset = CustomImageFolder(root=data_dir, transform=transform)\n",
        "train_loader = DataLoader(train_dataset, batch_size=8, shuffle=True)\n",
        "\n",
        "train_dataset.class_to_idx"
      ],
      "metadata": {
        "id": "b9tsmH7-TJM4",
        "colab": {
          "base_uri": "https://localhost:8080/"
        },
        "outputId": "1ce1a677-b181-4d04-95a4-c59c37efc27b"
      },
      "execution_count": 31,
      "outputs": [
        {
          "output_type": "execute_result",
          "data": {
            "text/plain": [
              "{'fraud_5': 0, 'fraud_6': 1, 'nonfraud_images': 2}"
            ]
          },
          "metadata": {},
          "execution_count": 31
        }
      ]
    },
    {
      "cell_type": "code",
      "source": [
        "# Custom CNN\n",
        "class CustomCNN(nn.Module):\n",
        "    def __init__(self, num_classes=3):\n",
        "        super(CustomCNN, self).__init__()\n",
        "        self.num_classes = num_classes\n",
        "\n",
        "        self.conv1 = nn.Conv2d(3, 16, kernel_size=3, padding=1)\n",
        "        self.bn1 = nn.BatchNorm2d(16)\n",
        "\n",
        "        self.conv2 = nn.Conv2d(16, 32, kernel_size=3, padding=1)\n",
        "        self.bn2 = nn.BatchNorm2d(32)\n",
        "\n",
        "        self.conv3 = nn.Conv2d(32, 64, kernel_size=3, padding=1)\n",
        "        self.bn3 = nn.BatchNorm2d(64)\n",
        "\n",
        "        self.dropout1 = nn.Dropout(0.3)\n",
        "        self.dropout2 = nn.Dropout(0.5)\n",
        "\n",
        "        self._initialize_fc()\n",
        "\n",
        "    def _initialize_fc(self):\n",
        "        dummy_input = torch.zeros(1, 3, 128, 128)\n",
        "        x = F.relu(self.bn1(self.conv1(dummy_input)))\n",
        "        x = F.max_pool2d(F.relu(self.bn2(self.conv2(x))), 2)\n",
        "        x = F.max_pool2d(F.relu(self.bn3(self.conv3(x))), 2)\n",
        "        x = self.dropout1(x)\n",
        "        self.fc_input_size = x.numel()\n",
        "\n",
        "        self.fc1 = nn.Linear(self.fc_input_size, 256)\n",
        "        self.fc2 = nn.Linear(256, self.num_classes)\n",
        "\n",
        "    def forward(self, x):\n",
        "        x = F.relu(self.bn1(self.conv1(x)))\n",
        "        x = F.max_pool2d(F.relu(self.bn2(self.conv2(x))), 2)\n",
        "        x = F.max_pool2d(F.relu(self.bn3(self.conv3(x))), 2)\n",
        "        x = self.dropout1(x)\n",
        "        x = x.view(x.size(0), -1)\n",
        "        x = F.relu(self.fc1(x))\n",
        "        x = self.dropout2(x)\n",
        "        x = self.fc2(x)\n",
        "        return x\n",
        "\n",
        "# Data Augmentation & Normalization\n",
        "transform = transforms.Compose([\n",
        "    transforms.RandomHorizontalFlip(),\n",
        "    transforms.RandomRotation(15),\n",
        "    transforms.ColorJitter(brightness=0.2, contrast=0.2, saturation=0.2),\n",
        "    transforms.ToTensor(),\n",
        "    transforms.Normalize(mean=[0.5]*3, std=[0.5]*3)\n",
        "])"
      ],
      "metadata": {
        "id": "fNEqd56pV9kC"
      },
      "execution_count": 24,
      "outputs": []
    },
    {
      "cell_type": "code",
      "source": [
        "# Initialize the model\n",
        "model = CustomCNN(num_classes=3)\n",
        "# Added by Ayushi\n",
        "criterion = nn.CrossEntropyLoss()\n",
        "optimizer = torch.optim.Adam(model.parameters(), lr=1e-4, weight_decay=1e-4)"
      ],
      "metadata": {
        "id": "-Pe72yH4TPqc"
      },
      "execution_count": 26,
      "outputs": []
    },
    {
      "cell_type": "code",
      "source": [
        "# Lists to store loss and accuracy for plotting\n",
        "train_losses = []\n",
        "train_accuracies = []"
      ],
      "metadata": {
        "id": "bEJBzuHlTY3o"
      },
      "execution_count": 22,
      "outputs": []
    },
    {
      "cell_type": "code",
      "source": [
        "device = torch.device(\"cuda\" if torch.cuda.is_available() else \"cpu\")\n",
        "model = CustomCNN(num_classes=3).to(device)\n",
        "\n",
        "criterion = nn.CrossEntropyLoss()\n",
        "optimizer = torch.optim.Adam(model.parameters(), lr=1e-4, weight_decay=1e-4)\n",
        "\n",
        "train_losses, train_accuracies = [], []\n",
        "num_epochs = 50\n",
        "\n",
        "for epoch in range(num_epochs):\n",
        "    model.train()\n",
        "    running_loss, correct, total = 0.0, 0, 0\n",
        "\n",
        "    for inputs, labels in train_loader:\n",
        "        inputs, labels = inputs.to(device), labels.to(device)\n",
        "\n",
        "        optimizer.zero_grad()\n",
        "        outputs = model(inputs)\n",
        "        loss = criterion(outputs, labels)\n",
        "        loss.backward()\n",
        "        optimizer.step()\n",
        "\n",
        "        running_loss += loss.item()\n",
        "        _, predicted = torch.max(outputs, 1)\n",
        "        total += labels.size(0)\n",
        "        correct += (predicted == labels).sum().item()\n",
        "\n",
        "    epoch_loss = running_loss / len(train_loader)\n",
        "    epoch_accuracy = (correct / total) * 100\n",
        "    train_losses.append(epoch_loss)\n",
        "    train_accuracies.append(epoch_accuracy)\n",
        "\n",
        "    print(f\"Epoch [{epoch+1}/{num_epochs}], Loss: {epoch_loss:.4f}, Accuracy: {epoch_accuracy:.2f}%\")\n",
        "\n",
        "# Save model\n",
        "torch.save(model.state_dict(), \"id_classification_cnn_model.pth\")\n"
      ],
      "metadata": {
        "colab": {
          "base_uri": "https://localhost:8080/"
        },
        "id": "Fd0Dk2asW2JK",
        "outputId": "ce55152c-5a94-4b21-a1dc-80e38a73f69e"
      },
      "execution_count": 27,
      "outputs": [
        {
          "output_type": "stream",
          "name": "stdout",
          "text": [
            "Epoch [1/50], Loss: 2.3230, Accuracy: 36.49%\n",
            "Epoch [2/50], Loss: 1.0277, Accuracy: 48.56%\n",
            "Epoch [3/50], Loss: 0.8705, Accuracy: 57.76%\n",
            "Epoch [4/50], Loss: 0.7438, Accuracy: 64.37%\n",
            "Epoch [5/50], Loss: 0.5768, Accuracy: 74.14%\n",
            "Epoch [6/50], Loss: 0.5361, Accuracy: 70.98%\n",
            "Epoch [7/50], Loss: 0.5102, Accuracy: 71.55%\n",
            "Epoch [8/50], Loss: 0.4720, Accuracy: 74.14%\n",
            "Epoch [9/50], Loss: 0.4829, Accuracy: 69.54%\n",
            "Epoch [10/50], Loss: 0.4679, Accuracy: 70.98%\n",
            "Epoch [11/50], Loss: 0.4599, Accuracy: 70.69%\n",
            "Epoch [12/50], Loss: 0.4377, Accuracy: 73.56%\n",
            "Epoch [13/50], Loss: 0.4428, Accuracy: 72.70%\n",
            "Epoch [14/50], Loss: 0.4264, Accuracy: 73.85%\n",
            "Epoch [15/50], Loss: 0.4517, Accuracy: 70.11%\n",
            "Epoch [16/50], Loss: 0.4404, Accuracy: 73.56%\n",
            "Epoch [17/50], Loss: 0.4302, Accuracy: 73.28%\n",
            "Epoch [18/50], Loss: 0.4215, Accuracy: 74.43%\n",
            "Epoch [19/50], Loss: 0.4187, Accuracy: 75.86%\n",
            "Epoch [20/50], Loss: 0.4308, Accuracy: 76.15%\n",
            "Epoch [21/50], Loss: 0.4248, Accuracy: 74.14%\n",
            "Epoch [22/50], Loss: 0.4117, Accuracy: 73.85%\n",
            "Epoch [23/50], Loss: 0.4125, Accuracy: 73.28%\n",
            "Epoch [24/50], Loss: 0.4073, Accuracy: 74.14%\n",
            "Epoch [25/50], Loss: 0.4295, Accuracy: 74.43%\n",
            "Epoch [26/50], Loss: 0.4223, Accuracy: 72.99%\n",
            "Epoch [27/50], Loss: 0.3857, Accuracy: 77.01%\n",
            "Epoch [28/50], Loss: 0.3946, Accuracy: 75.57%\n",
            "Epoch [29/50], Loss: 0.4291, Accuracy: 71.55%\n",
            "Epoch [30/50], Loss: 0.3973, Accuracy: 77.01%\n",
            "Epoch [31/50], Loss: 0.3815, Accuracy: 77.87%\n",
            "Epoch [32/50], Loss: 0.3856, Accuracy: 79.02%\n",
            "Epoch [33/50], Loss: 0.3825, Accuracy: 78.16%\n",
            "Epoch [34/50], Loss: 0.3689, Accuracy: 81.03%\n",
            "Epoch [35/50], Loss: 0.3835, Accuracy: 79.02%\n",
            "Epoch [36/50], Loss: 0.3734, Accuracy: 80.75%\n",
            "Epoch [37/50], Loss: 0.3763, Accuracy: 79.89%\n",
            "Epoch [38/50], Loss: 0.3757, Accuracy: 78.16%\n",
            "Epoch [39/50], Loss: 0.3628, Accuracy: 81.32%\n",
            "Epoch [40/50], Loss: 0.3440, Accuracy: 83.05%\n",
            "Epoch [41/50], Loss: 0.3531, Accuracy: 83.05%\n",
            "Epoch [42/50], Loss: 0.3380, Accuracy: 83.62%\n",
            "Epoch [43/50], Loss: 0.3393, Accuracy: 83.33%\n",
            "Epoch [44/50], Loss: 0.3780, Accuracy: 79.89%\n",
            "Epoch [45/50], Loss: 0.3045, Accuracy: 85.06%\n",
            "Epoch [46/50], Loss: 0.3238, Accuracy: 86.21%\n",
            "Epoch [47/50], Loss: 0.3092, Accuracy: 86.21%\n",
            "Epoch [48/50], Loss: 0.3215, Accuracy: 83.05%\n",
            "Epoch [49/50], Loss: 0.3052, Accuracy: 88.22%\n",
            "Epoch [50/50], Loss: 0.2810, Accuracy: 86.78%\n"
          ]
        }
      ]
    },
    {
      "cell_type": "code",
      "source": [
        "# Plot loss vs accuracy graph\n",
        "epochs = range(1, num_epochs + 1)\n",
        "\n",
        "# Create the figure and axis for plotting\n",
        "fig, ax1 = plt.subplots()\n",
        "\n",
        "# Plot loss on the left y-axis\n",
        "ax1.set_xlabel('Epochs')\n",
        "ax1.set_ylabel('Loss', color='tab:blue')\n",
        "ax1.plot(epochs, train_losses, color='tab:blue', label='Loss')\n",
        "ax1.tick_params(axis='y', labelcolor='tab:blue')\n",
        "\n",
        "# Create a second y-axis for accuracy\n",
        "ax2 = ax1.twinx()\n",
        "ax2.set_ylabel('Accuracy (%)', color='tab:orange')\n",
        "ax2.plot(epochs, train_accuracies, color='tab:orange', label='Accuracy')\n",
        "ax2.tick_params(axis='y', labelcolor='tab:orange')\n",
        "\n",
        "# Title and show the plot\n",
        "plt.title('Loss vs Accuracy')\n",
        "fig.tight_layout()\n",
        "plt.show()"
      ],
      "metadata": {
        "id": "NRtRiRIITe9K",
        "colab": {
          "base_uri": "https://localhost:8080/",
          "height": 487
        },
        "outputId": "de1b943f-f89d-4e40-a664-b1a81568d949"
      },
      "execution_count": 28,
      "outputs": [
        {
          "output_type": "display_data",
          "data": {
            "text/plain": [
              "<Figure size 640x480 with 2 Axes>"
            ],
            "image/png": "[encoded data removed]"
          },
          "metadata": {}
        }
      ]
    }
  ]
}